{
 "cells": [
  {
   "cell_type": "code",
   "execution_count": 7,
   "metadata": {},
   "outputs": [
    {
     "name": "stdout",
     "output_type": "stream",
     "text": [
      "Nothing\n",
      "Nothing\n"
     ]
    }
   ],
   "source": [
    "# https://github.com/ppoffice/ant-colony-tsp/blob/master/aco.py\n",
    "\n",
    "\n",
    "\n",
    "mutable struct Ant\n",
    "    init_location::Tuple{Float64,Float64}\n",
    "    possible_locations::Dict{String,Tuple{Float64,Float64}}\n",
    "    route::Dict{String,Tuple{Float64,Float64}}\n",
    "    distance_traveled::Float64\n",
    "    pheromone_map::Array{Float64,2}\n",
    "#     distance_callback\n",
    "    alpha::Float64\n",
    "    beta::Float64\n",
    "    first_pass::Bool\n",
    "    tour_complete::Bool\n",
    "    Ant(init_location, possible_locations, pheromone_map, alpha, beta) = \n",
    "        new(init_location, possible_locations, Dict(), 0, pheromone_map, alpha, beta, false, false)\n",
    "    Ant(init_location, possible_locations, route, distance_traveled, pheromone_map, alpha, beta, first_pass, tour_complete) = \n",
    "        new(init_location, possible_locations, route, distance_traveled, pheromone_map, alpha, beta, first_pass, tour_complete)\n",
    "end\n",
    "\n",
    "function get_route(a)\n",
    "    if a.tour_complete\n",
    "        return a.route\n",
    "    end\n",
    "    return Nothing\n",
    "end\n",
    "\n",
    "function get_distance_traveled(a)\n",
    "    if a.tour_complete\n",
    "        return a.distance_traveled\n",
    "    end\n",
    "    return Nothing\n",
    "end\n",
    "\n",
    "# obj = Ant((1.0, 2.2), Dict{String, Tuple{Float64, Float64}}(\"NY\" => (1.3,2.4), \"YN\" => (3,4)), Dict(), \n",
    "#     6.7, [1 1 ;3 3.2], 2.0, 1.4, false, false)\n",
    "# println(get_distance_traveled(obj))\n",
    "# obj = Ant((1.0, 2.2), Dict{String, Tuple{Float64, Float64}}(\"NY\" => (1.3,2.4), \"YN\" => (3,4)), [1 1 ;3 3.2], 2.0, 1.4)\n",
    "# println(get_distance_traveled(obj))"
   ]
  },
  {
   "cell_type": "code",
   "execution_count": null,
   "metadata": {},
   "outputs": [],
   "source": []
  },
  {
   "cell_type": "code",
   "execution_count": null,
   "metadata": {},
   "outputs": [],
   "source": []
  }
 ],
 "metadata": {
  "kernelspec": {
   "display_name": "Julia 1.0.3",
   "language": "julia",
   "name": "julia-1.0"
  },
  "language_info": {
   "file_extension": ".jl",
   "mimetype": "application/julia",
   "name": "julia",
   "version": "1.0.3"
  }
 },
 "nbformat": 4,
 "nbformat_minor": 2
}
