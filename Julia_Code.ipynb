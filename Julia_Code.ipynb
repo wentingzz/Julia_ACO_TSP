{
 "cells": [
  {
   "cell_type": "markdown",
   "metadata": {},
   "source": [
    "Installation:\n",
    "\n",
    "Download and install the Julia from this site https://julialang.org/downloads/\n",
    "\n",
    "Run the following commands in the terminal to install Jupyter Notebook:"
   ]
  },
  {
   "cell_type": "code",
   "execution_count": null,
   "metadata": {},
   "outputs": [],
   "source": [
    "using Pkg\n",
    "Pkg.add(\"IJulia\")"
   ]
  },
  {
   "cell_type": "code",
   "execution_count": null,
   "metadata": {},
   "outputs": [],
   "source": [
    "using IJulia\n",
    "notebook()"
   ]
  },
  {
   "cell_type": "markdown",
   "metadata": {},
   "source": [
    "Reference:\n",
    "\n",
    "https://github.com/JuliaLang/IJulia.jl\n",
    "\n",
    "https://medium.com/@Jernfrost/types-in-c-c-and-julia-ce0fcbe0dec6\n",
    "\n",
    "https://en.wikibooks.org/wiki/Introducing_Julia/Dictionaries_and_sets\n",
    "\n",
    "https://en.wikibooks.org/wiki/Introducing_Julia/Arrays_and_tuples"
   ]
  },
  {
   "cell_type": "markdown",
   "metadata": {},
   "source": [
    "STRING\n",
    "\n",
    "A string consists of multiple characters. Double quotes or triple double quotes can be used to initialize a string. (Triple quotes is used to include quotes in a string)"
   ]
  },
  {
   "cell_type": "code",
   "execution_count": 5,
   "metadata": {},
   "outputs": [
    {
     "name": "stdout",
     "output_type": "stream",
     "text": [
      "Hello, World!\n",
      "Hellow, World\n"
     ]
    }
   ],
   "source": [
    "str1 = \"Hello, World!\"\n",
    "str2 = \"\"\"Hellow, World\"\"\"\n",
    "println(str1)\n",
    "println(str2)"
   ]
  },
  {
   "cell_type": "markdown",
   "metadata": {},
   "source": [
    "The index of the string in Julia starts from 1 instead of 0.\n",
    "\n",
    "\"end\" is used to indicate the index of the last element in the string."
   ]
  },
  {
   "cell_type": "code",
   "execution_count": 107,
   "metadata": {},
   "outputs": [
    {
     "name": "stdout",
     "output_type": "stream",
     "text": [
      "H\n",
      "!\n"
     ]
    }
   ],
   "source": [
    "str = \"Hello, World!\"\n",
    "println(str[1]) \n",
    "println(str[end]) "
   ]
  },
  {
   "cell_type": "markdown",
   "metadata": {},
   "source": [
    "There are two ways to get the substring:\n",
    "\n",
    "(1) use index range. Note the index starts from 1.\n",
    "\n",
    "(2) use SubString(string, starting index, end index)."
   ]
  },
  {
   "cell_type": "code",
   "execution_count": 108,
   "metadata": {},
   "outputs": [
    {
     "name": "stdout",
     "output_type": "stream",
     "text": [
      "ell\n",
      "ell\n"
     ]
    }
   ],
   "source": [
    "println(str[2:4])\n",
    "println(SubString(str, 2, 4))"
   ]
  },
  {
   "cell_type": "markdown",
   "metadata": {},
   "source": [
    "String concatenation: \n",
    "\n",
    "string(str1, str2, str3...) is used to combine multiple strings. In the print statement, string() can be omitted."
   ]
  },
  {
   "cell_type": "code",
   "execution_count": 109,
   "metadata": {},
   "outputs": [
    {
     "name": "stdout",
     "output_type": "stream",
     "text": [
      "Hello, World!! .\n",
      "\n",
      "End\n",
      "Hello, World!! .End\n"
     ]
    }
   ],
   "source": [
    "println(string(str, \"! \", \".\\n\\nEnd\"))\n",
    "println(str, \"! \", \".End\")"
   ]
  },
  {
   "cell_type": "markdown",
   "metadata": {},
   "source": [
    "The following functions can be used to find the index of a certain character:\n",
    "\n",
    "(1) findfirst(isequal(char), string) finds the index of the character in the string that occurs first(leftmost)\n",
    "\n",
    "(2) finglast(isequal(char), string) finds the index of the character in the string that occurs last(rightmost)"
   ]
  },
  {
   "cell_type": "code",
   "execution_count": 110,
   "metadata": {},
   "outputs": [
    {
     "name": "stdout",
     "output_type": "stream",
     "text": [
      "4\n",
      "7\n"
     ]
    }
   ],
   "source": [
    "println(findfirst(isequal('o'), \"xylophone\"))\n",
    "println(findlast(isequal('o'), \"xylophone\"))"
   ]
  },
  {
   "cell_type": "markdown",
   "metadata": {},
   "source": [
    "(3) findnext(isequal(char), string, index) finds the index of the character in the string after a certain index\n",
    "\n",
    "(4) findprev(isequal(char), string, index) finds the index of the character in the string before a certain index"
   ]
  },
  {
   "cell_type": "code",
   "execution_count": 111,
   "metadata": {},
   "outputs": [
    {
     "name": "stdout",
     "output_type": "stream",
     "text": [
      "4\n",
      "7\n",
      "4\n"
     ]
    }
   ],
   "source": [
    "println(findnext(isequal('o'), \"xylophone\", 1))\n",
    "println(findnext(isequal('o'), \"xylophone\", 5))\n",
    "println(findprev(isequal('o'), \"xylophone\", 5))"
   ]
  },
  {
   "cell_type": "markdown",
   "metadata": {},
   "source": [
    "Other functions:\n",
    "\n",
    "(1) occusin(str1, str2) is used to check if str2 contains a str1.\n",
    "\n",
    "(2) $ symbol evaluate the value of an expression in a string"
   ]
  },
  {
   "cell_type": "code",
   "execution_count": 112,
   "metadata": {},
   "outputs": [
    {
     "name": "stdout",
     "output_type": "stream",
     "text": [
      "true\n",
      "1 + 2 = 3\n",
      "Test: Hello, World!\n"
     ]
    }
   ],
   "source": [
    "println(occursin(\"world\", \"Hello, world.\"))\n",
    "println(\"1 + 2 = $(1 + 2)\")\n",
    "println(\"Test: $str\")"
   ]
  },
  {
   "cell_type": "markdown",
   "metadata": {},
   "source": [
    "COMPLEX NUMBER\n",
    "\n",
    "In Julia, the complex number i is stored as a global constant im, representing the square root of -1. Do not use i because it may be used in other places such as a for loop."
   ]
  },
  {
   "cell_type": "code",
   "execution_count": 13,
   "metadata": {},
   "outputs": [
    {
     "name": "stdout",
     "output_type": "stream",
     "text": [
      "8 + 1im\n"
     ]
    }
   ],
   "source": [
    "function f(w, x, y, z)\n",
    "    complex(w, x) * complex(y, z)\n",
    "end\n",
    "# 8 + 1im\n",
    "println(f(1, 2, 2, -3))"
   ]
  },
  {
   "cell_type": "markdown",
   "metadata": {},
   "source": [
    "EXCEPTION\n",
    "\n",
    "Like Java, we can use throw to throw an exception. Note that it must contain brackets, or it will become a type of exception instead of a specific one."
   ]
  },
  {
   "cell_type": "code",
   "execution_count": 14,
   "metadata": {},
   "outputs": [
    {
     "name": "stdout",
     "output_type": "stream",
     "text": [
      "true\n",
      "false\n"
     ]
    }
   ],
   "source": [
    "# Throw an exception\n",
    "# Cannot get a square root of a negative number\n",
    "function printSqrt(x)\n",
    "    if x < 0\n",
    "        throw(DomainError())\n",
    "    else \n",
    "        println(sqrt(x))\n",
    "    end\n",
    "end\n",
    "\n",
    "# must contain brackets\n",
    "println(typeof(BoundsError()) <: Exception)\n",
    "println(typeof(BoundsError) <: Exception)"
   ]
  },
  {
   "cell_type": "markdown",
   "metadata": {},
   "source": [
    "To define an error, we can use the function error() with a string that contains the error message in the brackets:"
   ]
  },
  {
   "cell_type": "code",
   "execution_count": 15,
   "metadata": {},
   "outputs": [
    {
     "data": {
      "text/plain": [
       "printSqrt (generic function with 1 method)"
      ]
     },
     "execution_count": 15,
     "metadata": {},
     "output_type": "execute_result"
    }
   ],
   "source": [
    "function printSqrt(x)\n",
    "    n >= 0 || error(\"Given number must be greater or equal to 0\")\n",
    "    println(sqrt(x))\n",
    "end"
   ]
  },
  {
   "cell_type": "markdown",
   "metadata": {},
   "source": [
    "Here is an example of try/catch statement\n",
    "\n",
    "We are allowed to store the exception caught into a variable, so we can get information of the exception in the future. (just like “catch (Exception e)” in Java)"
   ]
  },
  {
   "cell_type": "code",
   "execution_count": 16,
   "metadata": {},
   "outputs": [
    {
     "data": {
      "text/plain": [
       "foo (generic function with 1 method)"
      ]
     },
     "execution_count": 16,
     "metadata": {},
     "output_type": "execute_result"
    }
   ],
   "source": [
    "# try/catch statement\n",
    "# can save exception in a variable\n",
    "function foo(x)\n",
    "    try\n",
    "        sqrt(x)\n",
    "    catch y\n",
    "        if isa(y, DomainError)\n",
    "            sqrt(-x)\n",
    "        end\n",
    "    end\n",
    "end"
   ]
  },
  {
   "cell_type": "markdown",
   "metadata": {},
   "source": [
    "The code in finally will be ran after the code in try has been ran, or an exception or return happened in try. This is often used when operations of a file has been done( we need to close the file)."
   ]
  },
  {
   "cell_type": "code",
   "execution_count": 12,
   "metadata": {},
   "outputs": [
    {
     "data": {
      "text/plain": [
       "foo (generic function with 1 method)"
      ]
     },
     "execution_count": 12,
     "metadata": {},
     "output_type": "execute_result"
    }
   ],
   "source": [
    "# usage of finally\n",
    "# happens after an exception is thrown, \n",
    "# return or code successfully ran\n",
    "function foo(x)\n",
    "    try\n",
    "        x = sqrt(x)\n",
    "    finally \n",
    "        if x != nothing\n",
    "            println(x)\n",
    "        end\n",
    "    end\n",
    "end"
   ]
  },
  {
   "cell_type": "markdown",
   "metadata": {},
   "source": [
    "TYPE\n",
    "\n",
    ":: is used to declare the type and error message is displayed if the number doesn't match the declared type. Uncomment the last command and run the code to see the error message"
   ]
  },
  {
   "cell_type": "code",
   "execution_count": 3,
   "metadata": {},
   "outputs": [
    {
     "data": {
      "text/plain": [
       "1"
      ]
     },
     "execution_count": 3,
     "metadata": {},
     "output_type": "execute_result"
    }
   ],
   "source": [
    "# Type declaration\n",
    "(1)::Int64\n",
    "(1.4)::Float64\n",
    "# (1.4)::Int64\n",
    "# Cast\n",
    "num = Int32(1)"
   ]
  },
  {
   "cell_type": "markdown",
   "metadata": {},
   "source": [
    "Another operation is the \"child <: parent\", which indicates the hierarchy. Here are some examples:"
   ]
  },
  {
   "cell_type": "code",
   "execution_count": 114,
   "metadata": {},
   "outputs": [
    {
     "name": "stdout",
     "output_type": "stream",
     "text": [
      "true\n",
      "false\n"
     ]
    }
   ],
   "source": [
    "println(Integer <: Real)\n",
    "println(Real <: Integer)"
   ]
  },
  {
   "cell_type": "markdown",
   "metadata": {},
   "source": [
    "Then we can introduce new abstract type. Abstract type cannot be initialized and can be introduced by the keyword \"abstract type\" In order to define the parent type, we can use \":<\" which is optional. We can use abstract type to let the compiler decide which specific function to use, like this:"
   ]
  },
  {
   "cell_type": "code",
   "execution_count": 115,
   "metadata": {},
   "outputs": [
    {
     "name": "stdout",
     "output_type": "stream",
     "text": [
      "true\n",
      "false\n"
     ]
    }
   ],
   "source": [
    "abstract type newtype  <:  Integer end\n",
    "println(newtype <: Real)\n",
    "println(Real <: newtype)"
   ]
  },
  {
   "cell_type": "markdown",
   "metadata": {},
   "source": [
    "FUNCTION\n",
    "\n",
    "Function is a section in the program that performs certain tasks. There are two ways to initialize a function:\n",
    "\n",
    "(1) The following way is clear but takes more time and space to write"
   ]
  },
  {
   "cell_type": "code",
   "execution_count": 17,
   "metadata": {},
   "outputs": [
    {
     "data": {
      "text/plain": [
       "g (generic function with 1 method)"
      ]
     },
     "execution_count": 17,
     "metadata": {},
     "output_type": "execute_result"
    }
   ],
   "source": [
    "function g(x,y) # equals to g(x::Any, y::Any)\n",
    "    x * y\n",
    "end"
   ]
  },
  {
   "cell_type": "markdown",
   "metadata": {},
   "source": [
    "(2) Putting everything in one line is concise but it can be confusing sometimes."
   ]
  },
  {
   "cell_type": "code",
   "execution_count": 117,
   "metadata": {},
   "outputs": [
    {
     "name": "stdout",
     "output_type": "stream",
     "text": [
      "3 2\n"
     ]
    }
   ],
   "source": [
    "f(x,y) = x + y\n",
    "println(f(1,2), \" \", g(1,2))"
   ]
  },
  {
   "cell_type": "markdown",
   "metadata": {},
   "source": [
    "We can use :: to check the parameter's type and an error message is generated if the types don't match"
   ]
  },
  {
   "cell_type": "code",
   "execution_count": 118,
   "metadata": {},
   "outputs": [
    {
     "name": "stdout",
     "output_type": "stream",
     "text": [
      "6\n"
     ]
    },
    {
     "ename": "MethodError",
     "evalue": "MethodError: no method matching ftype(::Float64)\nClosest candidates are:\n  ftype(!Matched::Int64) at In[118]:2",
     "output_type": "error",
     "traceback": [
      "MethodError: no method matching ftype(::Float64)\nClosest candidates are:\n  ftype(!Matched::Int64) at In[118]:2",
      "",
      "Stacktrace:",
      " [1] top-level scope at In[118]:5"
     ]
    }
   ],
   "source": [
    "function ftype(x::Int) \n",
    "    return x + 1\n",
    "end\n",
    "println(ftype(5))\n",
    "# Generate an error message\n",
    "println(ftype(5.5))"
   ]
  },
  {
   "cell_type": "markdown",
   "metadata": {},
   "source": [
    "We can also return multiple values with tuple/array. We cannot notice the difference by only looking at the returned values, but we can use typeof() and see the difference. Note the default returned type, in this case, is a tuple."
   ]
  },
  {
   "cell_type": "code",
   "execution_count": 119,
   "metadata": {},
   "outputs": [
    {
     "name": "stdout",
     "output_type": "stream",
     "text": [
      "(3, \"string\")\n"
     ]
    }
   ],
   "source": [
    "function fg(a,b)\n",
    "    a+b, \"string\"\n",
    "end\n",
    "println(fg(1,2))"
   ]
  },
  {
   "cell_type": "markdown",
   "metadata": {},
   "source": [
    "The fg function will return a tuple with the first element as Int, and the second as a string"
   ]
  },
  {
   "cell_type": "code",
   "execution_count": 120,
   "metadata": {},
   "outputs": [
    {
     "name": "stdout",
     "output_type": "stream",
     "text": [
      "Tuple{Int64,String}:\t x = 5; y = string\n"
     ]
    }
   ],
   "source": [
    "x, y = fg(2,3)\n",
    "print(typeof(fg(2,3)))\n",
    "println(\":\\t x = \", x, \"; y = \", y)"
   ]
  },
  {
   "cell_type": "markdown",
   "metadata": {},
   "source": [
    "We can also return it as an Array."
   ]
  },
  {
   "cell_type": "code",
   "execution_count": 121,
   "metadata": {},
   "outputs": [
    {
     "name": "stdout",
     "output_type": "stream",
     "text": [
      "Array{Any,1}:\t x = 5; y = string\n"
     ]
    }
   ],
   "source": [
    "function fg2(a,b)\n",
    "    [a+b, \"string\"]\n",
    "end\n",
    "x, y = fg2(2,3)\n",
    "print(typeof(fg2(2,3)))\n",
    "println(\":\\t x = \", x, \"; y = \", y)"
   ]
  },
  {
   "cell_type": "markdown",
   "metadata": {},
   "source": [
    "CONTROL FLOW\n",
    "\n",
    "The conditional statement in many programming languages(C/Python) can be put in one line. Similarly, we can also put the if else statement into one line."
   ]
  },
  {
   "cell_type": "code",
   "execution_count": 122,
   "metadata": {},
   "outputs": [
    {
     "name": "stdout",
     "output_type": "stream",
     "text": [
      "x is greater than y\n",
      "x is less than y\n"
     ]
    }
   ],
   "source": [
    "function cmp(x, y)\n",
    "    if x < y\n",
    "        println(\"x is less than y\")\n",
    "   elseif x > y\n",
    "        println(\"x is greater than y\")\n",
    "   else\n",
    "        println(\"x is equal to y\")\n",
    "   end\n",
    "end\n",
    "cmp(9,1)\n",
    "\n",
    "# condition ? true : false\n",
    "cmp1(x, y) = println(x < y ? \"x is less than y\"    :\n",
    "                            x > y ? \"x is greater than y\" : \"x is equal to y\")\n",
    "cmp1(0,1)"
   ]
  },
  {
   "cell_type": "markdown",
   "metadata": {},
   "source": [
    "Compound expression is a sequence of statements and the last expression is evaluated and returned. It's different from the function. The variables used inside the compound expression can be accessed outside."
   ]
  },
  {
   "cell_type": "code",
   "execution_count": 123,
   "metadata": {},
   "outputs": [
    {
     "name": "stdout",
     "output_type": "stream",
     "text": [
      "3 = 1 + 2\n",
      "4 = 2 + 2\n"
     ]
    }
   ],
   "source": [
    "z = begin\n",
    "   x = 1\n",
    "   y = 2\n",
    "   x + y\n",
    "end\n",
    "println(z, \" = \", x, \" + \", y) #parameters inside can be accessed(not like a function)\n",
    "z = (a = 2; b = 2; a + b)\n",
    "println(z, \" = \", a, \" + \", b)"
   ]
  },
  {
   "cell_type": "markdown",
   "metadata": {},
   "source": [
    "LOOP\n",
    "\n",
    "The while loop and for loop in Julia work similar to other languages, such as Python/Java. Just be careful with the infinite loop when using the while loop."
   ]
  },
  {
   "cell_type": "code",
   "execution_count": 124,
   "metadata": {},
   "outputs": [
    {
     "name": "stdout",
     "output_type": "stream",
     "text": [
      "0 1 2 3 4 \n",
      "0 1 2 3 4 "
     ]
    }
   ],
   "source": [
    "i = 0\n",
    "while i < 5\n",
    "   print(i, \" \")\n",
    "   i += 1\n",
    "end\n",
    "println()\n",
    "for i = 0: 4\n",
    "    print(i, \" \")\n",
    "end"
   ]
  },
  {
   "cell_type": "markdown",
   "metadata": {},
   "source": [
    "The nested loop in Julia is easier to use. Here is an example:"
   ]
  },
  {
   "cell_type": "code",
   "execution_count": 125,
   "metadata": {},
   "outputs": [
    {
     "name": "stdout",
     "output_type": "stream",
     "text": [
      "-10 -11 -12 -13 00 01 02 03 10 11 12 13 20 21 22 23 "
     ]
    }
   ],
   "source": [
    "for i = -1:2, j = 0:3\n",
    "   print(i,j, \" \")\n",
    "end"
   ]
  },
  {
   "cell_type": "markdown",
   "metadata": {},
   "source": [
    "We can also use for each loop. Note the variable cannot be used outside of the loop."
   ]
  },
  {
   "cell_type": "code",
   "execution_count": 126,
   "metadata": {},
   "outputs": [
    {
     "name": "stdout",
     "output_type": "stream",
     "text": [
      "foo bar baz "
     ]
    },
    {
     "ename": "UndefVarError",
     "evalue": "UndefVarError: s not defined",
     "output_type": "error",
     "traceback": [
      "UndefVarError: s not defined",
      "",
      "Stacktrace:",
      " [1] top-level scope at In[126]:4"
     ]
    }
   ],
   "source": [
    "for s in [\"foo\",\"bar\",\"baz\"]\n",
    "   print(s, \" \")\n",
    "end\n",
    "print(s) # Error message expected"
   ]
  },
  {
   "cell_type": "markdown",
   "metadata": {},
   "source": [
    "We can use \"break\" to end the loop or use \"continue\" to execute the next turn. Using \"continue\" will not execute any code after it in this turn."
   ]
  },
  {
   "cell_type": "code",
   "execution_count": 127,
   "metadata": {},
   "outputs": [
    {
     "name": "stdout",
     "output_type": "stream",
     "text": [
      "0 1 2 3 4 5 \n",
      "3 6 9 "
     ]
    }
   ],
   "source": [
    "i = 0\n",
    "while true\n",
    "   print(i, \" \")\n",
    "   if i >= 5\n",
    "       break\n",
    "   end\n",
    "   global i += 1\n",
    "end\n",
    "\n",
    "println()\n",
    "for i = 1:10\n",
    "   if i % 3 != 0\n",
    "       continue #only print 3,6,9\n",
    "   end\n",
    "   print(i, \" \")\n",
    "end"
   ]
  },
  {
   "cell_type": "markdown",
   "metadata": {},
   "source": [
    "Composite types are called objects in Java, composite types are the mostly common used user-defined type in Julia. Composite types contains fields. In Julia, all values are object but functions are not bounded with objects. The way it works is similar to C."
   ]
  },
  {
   "cell_type": "code",
   "execution_count": 128,
   "metadata": {},
   "outputs": [
    {
     "name": "stdout",
     "output_type": "stream",
     "text": [
      "name(\"Tom\", \"Smith\")\tTom\tSmith\n"
     ]
    }
   ],
   "source": [
    "struct name\n",
    "    first::String\n",
    "    last::String\n",
    "end\n",
    "tname = name(\"Tom\", \"Smith\")\n",
    "println(tname,\"\\t\", tname.first, \"\\t\", tname.last)"
   ]
  },
  {
   "cell_type": "markdown",
   "metadata": {},
   "source": [
    "We can also add functions to the new object. Like C, we need to pass the new object as a parameter in the function. The order of the parameters doesn't matter but it has to match when you call the function. \n",
    "\n",
    "By default, Julia creates immutable objects, which doesn't allow modification of the values. So we also need to declare the constructor with \"mutable struct\" instead of \"struct\"."
   ]
  },
  {
   "cell_type": "code",
   "execution_count": 129,
   "metadata": {},
   "outputs": [
    {
     "name": "stdout",
     "output_type": "stream",
     "text": [
      "Point(4, 1)\n",
      "Point(16, 2)\n"
     ]
    }
   ],
   "source": [
    "mutable struct Point\n",
    "    x::Int #check the type\n",
    "    y::Int\n",
    "end\n",
    "\n",
    "function addx(p::Point, xadd::Int64)\n",
    "    p.x += xadd\n",
    "end\n",
    "\n",
    "function addy(yadd::Int64, p::Point)\n",
    "    p.y += yadd\n",
    "end\n",
    "\n",
    "p = Point(4, 1)\n",
    "println(p)\n",
    "addx(p, 12)\n",
    "addy(1,p)\n",
    "println(p)"
   ]
  },
  {
   "cell_type": "markdown",
   "metadata": {},
   "source": [
    "The difference between mutable and immutable types is about the identity of the object. We created a new name \"Tom Smith\" in the previous example. If we created another name with exactly the same name and compare these two objects, they are considered identical."
   ]
  },
  {
   "cell_type": "code",
   "execution_count": 130,
   "metadata": {},
   "outputs": [
    {
     "name": "stdout",
     "output_type": "stream",
     "text": [
      "true\n"
     ]
    }
   ],
   "source": [
    "pname = name(\"Tom\", \"Smith\")\n",
    "println(tname == pname)"
   ]
  },
  {
   "cell_type": "markdown",
   "metadata": {},
   "source": [
    "However, if we create two mutable objects with the same value, they are not considered the same. When creating a new type, we should consider if two objects with the same information are considered identical. For example, two persons can have the same name but they are not identical."
   ]
  },
  {
   "cell_type": "code",
   "execution_count": 131,
   "metadata": {},
   "outputs": [
    {
     "name": "stdout",
     "output_type": "stream",
     "text": [
      "false\n"
     ]
    }
   ],
   "source": [
    "mutable struct Person\n",
    "    fname::String\n",
    "    lname::String\n",
    "end\n",
    "p1 = Person(\"Tom\", \"Smith\")\n",
    "p2 = Person(\"Tom\", \"Smith\")\n",
    "println(p1 == p2)"
   ]
  },
  {
   "cell_type": "markdown",
   "metadata": {},
   "source": [
    "Parametric Constructors have more flexibility in Julia. The constructor can accept more than one value types by using \"<:\". You can go to TYPE section if you are not sure the use of \"<:\". In the following example, T is a child of the real numbers and x, y are T type. \n",
    "\n",
    "We can create new Point1 instance implicitly or explicitly. If we construct a new Point implicitly, the T will be assigned to the type of the passed value. If we pass integers, x and y will be integers. The other way is to explicitly define the type when creating a new instance. See the following example:"
   ]
  },
  {
   "cell_type": "code",
   "execution_count": 132,
   "metadata": {},
   "outputs": [
    {
     "name": "stdout",
     "output_type": "stream",
     "text": [
      "Point1{Float64}(1.0, 2.0)\n",
      "Point1{Float64}(1.2, 2.0)\n",
      "Point1{Float64}(1.0, 2.0)\n"
     ]
    }
   ],
   "source": [
    "struct Point1{T<:Real}\n",
    "   x::T\n",
    "   y::T\n",
    "end\n",
    "println(Point1(1,2)) #implicit\n",
    "println(Point1(1.2,2.0)) #implicit\n",
    "println(Point1{Float64}(1,2))#explicit"
   ]
  },
  {
   "cell_type": "markdown",
   "metadata": {},
   "source": [
    "Sometimes we want to accept the input regardless of the types and convert the \"wrong\" types into the ones we want. There is a way to do this(a better way to do this??):"
   ]
  },
  {
   "cell_type": "code",
   "execution_count": 133,
   "metadata": {},
   "outputs": [
    {
     "name": "stdout",
     "output_type": "stream",
     "text": [
      "Point1{Float64}(4.0, 1.0)\n",
      "Point1{Float64}(4.0, 1.9)\n",
      "Point1{Float64}(4.3, 1.9)\n"
     ]
    }
   ],
   "source": [
    "Point1(x::Int64, y::Int64) = Point1(convert(Float64,x),convert(Float64,y))\n",
    "Point1(x::Float64, y::Int64) = Point1(x,convert(Float64,y))\n",
    "Point1(x::Int64, y::Float64) = Point1(convert(Float64,x),y)\n",
    "println(Point1(4, 1))\n",
    "println(Point1(4, 1.9))\n",
    "println(Point1(4.3, 1.9))"
   ]
  },
  {
   "cell_type": "markdown",
   "metadata": {},
   "source": [
    "DICTIONARY\n",
    "\n",
    "The way the dictionary works in Julia is similar to Python. The dictionary has two parts, key, and value. Each key is unique and refers to a value. Let's look at some ways to initialize the dictionary.\n",
    "\n",
    "(1) Dict(key => value, key => value...) is used when we know the key(s) and value(s). The type of the key/value is determined by the values in the dictionary. If all the keys/values are the same type, the type of key will be changed accordingly. Otherwise, it will be Any to accept any type of key/value.\n",
    "\n",
    "(2) Dict{Key type, Value type}() is used when we know the key type and value type. In this case, we will get an error message if we pass the incorrect type. Note that the Key type and Value type can be \"Any\" to accept any type of data. \n",
    "\n",
    "(3) Dict() is used to initialize a dictionary with any types. In this case, the type doesn't change even all the keys in the dictionary are the same type.\n",
    "\n",
    "Note:\n",
    "\n",
    "See dict1 in the following example. You may notice that only 3 keys are actually in dict1 even we tried to add four keys. The reason is the key in a dictionary must be unique, so instead of adding a new identical key 1, the value of key 1 is updated. "
   ]
  },
  {
   "cell_type": "code",
   "execution_count": 134,
   "metadata": {},
   "outputs": [
    {
     "name": "stdout",
     "output_type": "stream",
     "text": [
      "Dict\tDict{Any,String}\tDict{Any,String}(\"1\"=>\"wrong value\",1=>\"first\")\n",
      "Dict1\tDict{Int64,String}\tDict(2=>\"second\",3=>\"third\",1=>\"first\")\n",
      "Dict2\tDict{Int64,String}\tDict(2=>\"second\",3=>\"third\",1=>\"first\")\n",
      "Dict3\tDict{Any,Any}\t\tDict{Any,Any}(\"test\"=>\"good\",1=>\"first\")\n"
     ]
    }
   ],
   "source": [
    "# (1)\n",
    "dict = Dict(\"1\" => \"wrong value\", 1 => \"first\")\n",
    "dict1 = Dict(1 => \"wrong value\", 2 => \"second\", 3 => \"third\", 1 => \"first\")\n",
    "println(\"Dict\\t\", typeof(dict), \"\\t\", dict)\n",
    "println(\"Dict1\\t\", typeof(dict1), \"\\t\", dict1)\n",
    "\n",
    "# (2)\n",
    "dict2 = Dict{Int, String}()\n",
    "i = 1\n",
    "for s in [\"first\",\"second\",\"third\"]\n",
    "    dict2[i] = s\n",
    "    i = i + 1\n",
    "end\n",
    "println(\"Dict2\\t\", typeof(dict2), \"\\t\", dict2)\n",
    "\n",
    "# (3)\n",
    "dict3 = Dict()\n",
    "dict3[\"test\"] = \"good\"\n",
    "dict3[1] = \"first\"\n",
    "println(\"Dict3\\t\", typeof(dict3), \"\\t\\t\", dict3)"
   ]
  },
  {
   "cell_type": "markdown",
   "metadata": {},
   "source": [
    "We can get the value of the key by Dict[key], but it can raise an error if the key is not found. Uncomment the second line to see the error.\n",
    "\n",
    "To avoid the error message, we can either add a try-catch statement or use get(dictionary, key, default). The default can be string or number and will be returned if the key is not in the dictionary."
   ]
  },
  {
   "cell_type": "code",
   "execution_count": 135,
   "metadata": {},
   "outputs": [
    {
     "name": "stdout",
     "output_type": "stream",
     "text": [
      "first\n",
      "default value = 1\n"
     ]
    }
   ],
   "source": [
    "println(dict1[1])\n",
    "# println(dict1[\"2\"])\n",
    "println(\"default value = \",get(dict1, \"2\", 1))"
   ]
  },
  {
   "cell_type": "markdown",
   "metadata": {},
   "source": [
    "To get all the keys or values in the dictionary, we can use keys(dictionary) and values(dictionary)."
   ]
  },
  {
   "cell_type": "code",
   "execution_count": 136,
   "metadata": {},
   "outputs": [
    {
     "name": "stdout",
     "output_type": "stream",
     "text": [
      "[2, 3, 1]\t[\"second\", \"third\", \"first\"]\n"
     ]
    }
   ],
   "source": [
    "print(keys(dict1), \"\\t\")\n",
    "println(values(dict1))"
   ]
  },
  {
   "cell_type": "markdown",
   "metadata": {},
   "source": [
    "We can easily iterate over the dictionary in a for each loop. Don't forget the parentheses."
   ]
  },
  {
   "cell_type": "code",
   "execution_count": 137,
   "metadata": {},
   "outputs": [
    {
     "name": "stdout",
     "output_type": "stream",
     "text": [
      "2 -> second\n",
      "3 -> third\n",
      "1 -> first\n",
      "\n",
      "2 -> second\n",
      "3 -> third\n",
      "1 -> first\n"
     ]
    }
   ],
   "source": [
    "for (k, v) in dict1\n",
    "    println(k, \" -> \", v)\n",
    "end\n",
    "\n",
    "println()\n",
    "for tuple in dict1\n",
    "    println(tuple[1], \" -> \", tuple[2])\n",
    "end"
   ]
  },
  {
   "cell_type": "markdown",
   "metadata": {},
   "source": [
    "haskey(dictionary, key) checks if the key is in the dictionary\n",
    "\n",
    "in((key => value), dictionary) checks if the pair is in the dictionary"
   ]
  },
  {
   "cell_type": "code",
   "execution_count": 138,
   "metadata": {},
   "outputs": [
    {
     "name": "stdout",
     "output_type": "stream",
     "text": [
      "\n",
      "false\ttrue\n",
      "false\ttrue\n",
      "\n"
     ]
    }
   ],
   "source": [
    "println(\"\\n\", haskey(dict1, 4), \"\\t\", haskey(dict1, 2))\n",
    "println(in((2 => \"first\"), dict2), \"\\t\", in((2 => \"second\"), dict2), \"\\n\")"
   ]
  },
  {
   "cell_type": "markdown",
   "metadata": {},
   "source": [
    "DataStructure is available to use if we want to sort the dictionary."
   ]
  },
  {
   "cell_type": "code",
   "execution_count": 139,
   "metadata": {},
   "outputs": [
    {
     "name": "stdout",
     "output_type": "stream",
     "text": [
      "1 -> first\n",
      "2 -> second\n",
      "3 -> third\n"
     ]
    }
   ],
   "source": [
    "# import DataStructures\n",
    "# dict = DataStructures.SortedDict(\"b\" => 2, \"c\" => 3, \"d\" => 4, \"e\" => 5, \"f\" => 6)\n",
    "\n",
    "for key in sort(collect(keys(dict1))) # print the key in a sorted order\n",
    "    println(key, \" -> \", dict1[key])\n",
    "end"
   ]
  },
  {
   "cell_type": "markdown",
   "metadata": {},
   "source": [
    "delete!(dict, key) is used to delete the key"
   ]
  },
  {
   "cell_type": "code",
   "execution_count": 140,
   "metadata": {},
   "outputs": [
    {
     "name": "stdout",
     "output_type": "stream",
     "text": [
      "\n",
      "Dict1: Dict(2=>\"second\",3=>\"third\")\n"
     ]
    }
   ],
   "source": [
    "delete!(dict1, 1)\n",
    "println(\"\\nDict1: \", dict1)"
   ]
  },
  {
   "cell_type": "markdown",
   "metadata": {},
   "source": [
    "ARRAY\n",
    "\n",
    "Here are some functions we can use to initialize an array:\n",
    "\n",
    "zeros(data type, 1st dimension, 2nd dimension,...) returns an array filled with zeros."
   ]
  },
  {
   "cell_type": "code",
   "execution_count": 141,
   "metadata": {},
   "outputs": [
    {
     "data": {
      "text/plain": [
       "1×8 Array{Int8,2}:\n",
       " 0  0  0  0  0  0  0  0"
      ]
     },
     "execution_count": 141,
     "metadata": {},
     "output_type": "execute_result"
    }
   ],
   "source": [
    "zeros(Int8, 1, 8)"
   ]
  },
  {
   "cell_type": "markdown",
   "metadata": {},
   "source": [
    "Julia also allows us to use list comprehension just like Python."
   ]
  },
  {
   "cell_type": "code",
   "execution_count": 142,
   "metadata": {},
   "outputs": [
    {
     "data": {
      "text/plain": [
       "8-element Array{Int64,1}:\n",
       " 1\n",
       " 2\n",
       " 3\n",
       " 4\n",
       " 5\n",
       " 6\n",
       " 7\n",
       " 8"
      ]
     },
     "execution_count": 142,
     "metadata": {},
     "output_type": "execute_result"
    }
   ],
   "source": [
    "array1 = [i for i=1:8] # list comprehension"
   ]
  },
  {
   "cell_type": "markdown",
   "metadata": {},
   "source": [
    "reshape(array, dimension 1, dimension 2...) is used to re-structure the array in a certain dimension. collect(starting value, step value, stop value) can be used to generate arrays."
   ]
  },
  {
   "cell_type": "code",
   "execution_count": 143,
   "metadata": {},
   "outputs": [
    {
     "data": {
      "text/plain": [
       "2×4 Array{Int64,2}:\n",
       " 1  3  5  7\n",
       " 2  4  6  8"
      ]
     },
     "execution_count": 143,
     "metadata": {},
     "output_type": "execute_result"
    }
   ],
   "source": [
    "array1 = reshape(array1, 2, 4)\n",
    "# reshape(collect(0:10:99), 2, 5)"
   ]
  },
  {
   "cell_type": "markdown",
   "metadata": {},
   "source": [
    "fill(value, dimension 1, dimension 2...) is similar to zeros() but can fill any data type in the array."
   ]
  },
  {
   "cell_type": "code",
   "execution_count": 144,
   "metadata": {},
   "outputs": [
    {
     "data": {
      "text/plain": [
       "3×2 Array{String,2}:\n",
       " \"a\"  \"a\"\n",
       " \"a\"  \"a\"\n",
       " \"a\"  \"a\""
      ]
     },
     "execution_count": 144,
     "metadata": {},
     "output_type": "execute_result"
    }
   ],
   "source": [
    "fill(\"a\", 3, 2)"
   ]
  },
  {
   "cell_type": "markdown",
   "metadata": {},
   "source": [
    "repeat(A, n, m) is used to generate a larger array by repeating. A is the smaller array. n is the number of the times to repeat in the first dimension(row). m is the number of the times to repeat in the second dimension(column). (it can be tricky)"
   ]
  },
  {
   "cell_type": "code",
   "execution_count": 145,
   "metadata": {},
   "outputs": [
    {
     "data": {
      "text/plain": [
       "3×3 Array{Int64,2}:\n",
       " 1  1  1\n",
       " 2  2  2\n",
       " 3  3  3"
      ]
     },
     "execution_count": 145,
     "metadata": {},
     "output_type": "execute_result"
    }
   ],
   "source": [
    "repeat([1,2,3], 1, 3) # [3x1] repeats 1 time in 1st dimension and 3 times in 2nd dimension => 3x3"
   ]
  },
  {
   "cell_type": "code",
   "execution_count": 146,
   "metadata": {},
   "outputs": [
    {
     "data": {
      "text/plain": [
       "9×1 Array{Int64,2}:\n",
       " 1\n",
       " 2\n",
       " 3\n",
       " 1\n",
       " 2\n",
       " 3\n",
       " 1\n",
       " 2\n",
       " 3"
      ]
     },
     "execution_count": 146,
     "metadata": {},
     "output_type": "execute_result"
    }
   ],
   "source": [
    "repeat([1,2,3], 3, 1) # [3x1] repeats 3 times in the 1st dimension and 1 time in 2nd dimension => [9x1]"
   ]
  },
  {
   "cell_type": "code",
   "execution_count": 147,
   "metadata": {},
   "outputs": [
    {
     "data": {
      "text/plain": [
       "3×3 Array{Int64,2}:\n",
       " 1  2  3\n",
       " 1  2  3\n",
       " 1  2  3"
      ]
     },
     "execution_count": 147,
     "metadata": {},
     "output_type": "execute_result"
    }
   ],
   "source": [
    "repeat([1 2 3], 3, 1) # [1x3) repeats 3 times in the 1st dimension and 1 time in 2nd dimension => [3x3]"
   ]
  },
  {
   "cell_type": "code",
   "execution_count": 148,
   "metadata": {},
   "outputs": [
    {
     "data": {
      "text/plain": [
       "1×9 Array{Int64,2}:\n",
       " 1  2  3  1  2  3  1  2  3"
      ]
     },
     "execution_count": 148,
     "metadata": {},
     "output_type": "execute_result"
    }
   ],
   "source": [
    "repeat([1 2 3], 1, 3) # [1x3) repeats 1 time in 1st dimension and 3 times in 2nd dimension => [1x9]"
   ]
  },
  {
   "cell_type": "markdown",
   "metadata": {},
   "source": [
    "Julia provides a really easy way for us to work with the array. vcat(array 1, array 2) combines array 2 and array 1 vertically, which adds new columns."
   ]
  },
  {
   "cell_type": "code",
   "execution_count": 149,
   "metadata": {},
   "outputs": [
    {
     "data": {
      "text/plain": [
       "3×4 Array{Int64,2}:\n",
       " 1   3   5   7\n",
       " 2   4   6   8\n",
       " 9  10  11  12"
      ]
     },
     "execution_count": 149,
     "metadata": {},
     "output_type": "execute_result"
    }
   ],
   "source": [
    "vcat(array1, [9 10 11 12]) #3x4 array"
   ]
  },
  {
   "cell_type": "markdown",
   "metadata": {},
   "source": [
    "hcat(array 1, array 2) combines array 2 and array 1 horizontally, which adds new rows. Note that both functions don't change the array 1, so don't forget to assign the value to some variable. "
   ]
  },
  {
   "cell_type": "code",
   "execution_count": 150,
   "metadata": {},
   "outputs": [
    {
     "data": {
      "text/plain": [
       "2×5 Array{Int64,2}:\n",
       " 1  3  5  7   0\n",
       " 2  4  6  8  -1"
      ]
     },
     "execution_count": 150,
     "metadata": {},
     "output_type": "execute_result"
    }
   ],
   "source": [
    "hcat(array1, [0; -1])"
   ]
  },
  {
   "cell_type": "markdown",
   "metadata": {},
   "source": [
    "Just like what we usually do with an array, we can use array[index] to get the element in an array. The difference is, again, the index starts from 1 instead of 0. \":\" is used to get all the elements at that dimension. "
   ]
  },
  {
   "cell_type": "code",
   "execution_count": 151,
   "metadata": {},
   "outputs": [
    {
     "name": "stdout",
     "output_type": "stream",
     "text": [
      "1\t8\n",
      "[7, 8]\t[2, 4, 6, 8]\n"
     ]
    }
   ],
   "source": [
    "println(array1[1],\"\\t\", array1[end])\n",
    "println(array1[:, end], \"\\t\", array1[end, :])"
   ]
  },
  {
   "cell_type": "markdown",
   "metadata": {},
   "source": [
    "In a for each loop, we can easily get the values in the array. If we also want to get the index, we should use enumerate(array) and put parentheses to return a tuple."
   ]
  },
  {
   "cell_type": "code",
   "execution_count": 152,
   "metadata": {},
   "outputs": [
    {
     "name": "stdout",
     "output_type": "stream",
     "text": [
      "element1\te2\te3\t\n",
      "array(1) = element1\n",
      "array(2) = e2\n",
      "array(3) = e3\n"
     ]
    }
   ],
   "source": [
    "array2 = [\"element1\", \"e2\", \"e3\"]\n",
    "for n in array2\n",
    "    print(n, \"\\t\")\n",
    "end\n",
    "println()\n",
    "for (n, element) in enumerate(array2)\n",
    "   println(\"array($(n)) = \", element)\n",
    "end"
   ]
  },
  {
   "cell_type": "markdown",
   "metadata": {},
   "source": [
    "The following functions can return the index of some value in array: findfirst(condition, array), findall(condition, array), findnext(condition, array). The condition can be functions like isequal(), iseven() or expression x-> x==something. Note that the findall() returns an array of index."
   ]
  },
  {
   "cell_type": "code",
   "execution_count": 153,
   "metadata": {},
   "outputs": [
    {
     "name": "stdout",
     "output_type": "stream",
     "text": [
      "[\"element1\", \"e2\", \"e3\"]\n",
      "e3's index = 3\n",
      "[1 3 5 7; 2 4 6 8]\n",
      "CartesianIndex{2}[CartesianIndex(2, 1), CartesianIndex(2, 2), CartesianIndex(2, 3), CartesianIndex(2, 4)]\n"
     ]
    }
   ],
   "source": [
    "println(array2)\n",
    "println(\"e3's index = \", findfirst(x-> x == \"e3\", array2))\n",
    "println(array1)\n",
    "println(findall(iseven, array1))"
   ]
  },
  {
   "cell_type": "markdown",
   "metadata": {},
   "source": [
    "Other common function in an array:\n",
    "\n",
    "ndim(array) returns the dimension of the array\n",
    "\n",
    "size(array) returns the size of the array in the format of (dimension 1, dimension 2,...)\n",
    "\n",
    "length(array) returns the total number of the data in the array\n",
    "\n",
    "count(condition, array) returns the number of the data that satisfies the condition. The condition can be isequal(), iseven(), or expressions like x-> x==something.\n",
    "\n",
    "sum(array) adds all the numbers together. You will get an error message if the elements are not numbers.\n",
    "\n",
    "findmax(array) returns the maximum in the array.\n",
    "\n",
    "extrema(array) returns a tuple with minimum maximum"
   ]
  },
  {
   "cell_type": "code",
   "execution_count": 154,
   "metadata": {},
   "outputs": [
    {
     "name": "stdout",
     "output_type": "stream",
     "text": [
      "Array1: dimension = 2, size = (2, 4), length = 8, count = 4\n",
      "sum = 36, max = (\"element1\", 1), extrema = (1, 8)\n"
     ]
    }
   ],
   "source": [
    "println(\"Array1: dimension = \", ndims(array1), \", size = \", size(array1), \", length = \", length(array1), \n",
    "    \", count = \", count(iseven, array1))\n",
    "println(\"sum = \", sum(array1), \", max = \", findmax(array2), \", extrema = \", extrema(array1))"
   ]
  },
  {
   "cell_type": "markdown",
   "metadata": {},
   "source": []
  },
  {
   "cell_type": "code",
   "execution_count": null,
   "metadata": {},
   "outputs": [],
   "source": []
  }
 ],
 "metadata": {
  "kernelspec": {
   "display_name": "Julia 1.0.3",
   "language": "julia",
   "name": "julia-1.0"
  },
  "language_info": {
   "file_extension": ".jl",
   "mimetype": "application/julia",
   "name": "julia",
   "version": "1.0.3"
  }
 },
 "nbformat": 4,
 "nbformat_minor": 2
}
