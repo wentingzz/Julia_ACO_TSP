{
 "cells": [
  {
   "cell_type": "code",
   "execution_count": 1,
   "metadata": {},
   "outputs": [
    {
     "data": {
      "text/plain": [
       "dist_random_permutations (generic function with 1 method)"
      ]
     },
     "execution_count": 1,
     "metadata": {},
     "output_type": "execute_result"
    }
   ],
   "source": [
    "#using Pkg\n",
    "#Pkg.add(\"Distances\")\n",
    "#Pkg.add(\"Random\")\n",
    "using Distributed\n",
    "using Distances\n",
    "\n",
    "# add k workers\n",
    "k=15\n",
    "addprocs(k)\n",
    "nprocs()\n",
    "@everywhere using Random\n",
    "\n",
    "# compute cost of tsp tour\n",
    "@everywhere function cost_tour(d::Array{Float64,2}, o::Array{Int64,1})\n",
    "    n=length(o)\n",
    "    result = d[o[n],o[1]]\n",
    "    for i in 1:(n-1)\n",
    "        result += d[o[i],o[i+1]]\n",
    "    end\n",
    "    return result\n",
    "end\n",
    "\n",
    "# compute iterations random permutations, report the best one\n",
    "@everywhere function random_permutations(n,d,iterations)\n",
    "    #o=collect(1:n)\n",
    "    #o=shuffle(o)\n",
    "    o=randperm(n)\n",
    "    optcost=cost_tour(d,o)\n",
    "    optrandom=o\n",
    "    # println(\"random permutation iteration 0 tour $o cost: $optcost\")\n",
    "    for j in 1:(iterations-1)\n",
    "        o=shuffle(o)\n",
    "        c=cost_tour(d,o)\n",
    "        if c<optcost\n",
    "            optcost=c\n",
    "            optrandom=o\n",
    "            # println(\"random permutation iteration $j tour $o cost: $optcost\")\n",
    "        end\n",
    "    end\n",
    "    return (optcost, optrandom)\n",
    "end\n",
    "\n",
    "function dist_random_permutations(n,d,iterations)\n",
    "    d_iterations = Int64(iterations/nworkers())\n",
    "    futures = Array{Future}(undef, nworkers())\n",
    "    for (i, id) in enumerate(workers())\n",
    "        futures[i] = @spawnat id random_permutations(n,d,d_iterations)\n",
    "    end\n",
    "    p = fetch.(futures)\n",
    "    optcost = p[1][1]\n",
    "    optperm = p[1][2]\n",
    "    for i in 2:length(p)\n",
    "        if p[i][1]<optcost\n",
    "            optcost = p[i][1]\n",
    "            optperm = p[i][2] \n",
    "        end\n",
    "    end\n",
    "    return (optcost,optperm)\n",
    "end"
   ]
  },
  {
   "cell_type": "code",
   "execution_count": 2,
   "metadata": {},
   "outputs": [
    {
     "data": {
      "text/plain": [
       "3628800"
      ]
     },
     "execution_count": 2,
     "metadata": {},
     "output_type": "execute_result"
    }
   ],
   "source": [
    "# create n cities\n",
    "n=100 # cities\n",
    "x = rand(2,n) # 2d-world\n",
    "\n",
    "# compute Euclidean distance between cities \n",
    "d=pairwise(Euclidean(), x, x)\n",
    "\n",
    "iterations = Int64(2*3*4*5*6*7*8*9*10)"
   ]
  },
  {
   "cell_type": "code",
   "execution_count": 3,
   "metadata": {},
   "outputs": [
    {
     "data": {
      "text/plain": [
       "16"
      ]
     },
     "execution_count": 3,
     "metadata": {},
     "output_type": "execute_result"
    }
   ],
   "source": [
    "nprocs()"
   ]
  },
  {
   "cell_type": "code",
   "execution_count": 4,
   "metadata": {},
   "outputs": [
    {
     "name": "stdout",
     "output_type": "stream",
     "text": [
      "  3.762925 seconds (3.82 M allocations: 3.038 GiB, 1.14% gc time)\n"
     ]
    },
    {
     "data": {
      "text/plain": [
       "(40.70886213638635, [44, 22, 70, 67, 100, 99, 52, 26, 54, 83  …  89, 78, 29, 74, 8, 45, 95, 69, 38, 14])"
      ]
     },
     "execution_count": 4,
     "metadata": {},
     "output_type": "execute_result"
    }
   ],
   "source": [
    "@time random_permutations(n,d,iterations)"
   ]
  },
  {
   "cell_type": "code",
   "execution_count": 5,
   "metadata": {},
   "outputs": [
    {
     "name": "stdout",
     "output_type": "stream",
     "text": [
      "  3.684492 seconds (3.63 M allocations: 3.028 GiB, 1.18% gc time)\n"
     ]
    },
    {
     "data": {
      "text/plain": [
       "(40.46740988482423, [70, 37, 82, 77, 45, 30, 93, 55, 81, 36  …  99, 19, 85, 21, 95, 68, 13, 2, 62, 50])"
      ]
     },
     "execution_count": 5,
     "metadata": {},
     "output_type": "execute_result"
    }
   ],
   "source": [
    "@time random_permutations(n,d,iterations)"
   ]
  },
  {
   "cell_type": "code",
   "execution_count": 6,
   "metadata": {},
   "outputs": [
    {
     "name": "stdout",
     "output_type": "stream",
     "text": [
      "  3.618330 seconds (3.63 M allocations: 3.028 GiB, 1.03% gc time)\n"
     ]
    },
    {
     "data": {
      "text/plain": [
       "(40.780034003664895, [80, 43, 20, 84, 53, 56, 65, 22, 52, 19  …  25, 78, 95, 58, 88, 81, 31, 50, 54, 98])"
      ]
     },
     "execution_count": 6,
     "metadata": {},
     "output_type": "execute_result"
    }
   ],
   "source": [
    "@time random_permutations(n,d,iterations)"
   ]
  },
  {
   "cell_type": "code",
   "execution_count": 7,
   "metadata": {},
   "outputs": [
    {
     "name": "stdout",
     "output_type": "stream",
     "text": [
      "  4.080153 seconds (1.41 M allocations: 71.689 MiB, 0.36% gc time)\n"
     ]
    },
    {
     "data": {
      "text/plain": [
       "(40.54907415852216, [9, 52, 44, 35, 2, 61, 89, 74, 86, 5  …  37, 22, 98, 6, 47, 79, 84, 66, 92, 23])"
      ]
     },
     "execution_count": 7,
     "metadata": {},
     "output_type": "execute_result"
    }
   ],
   "source": [
    "@time dist_random_permutations(n,d,iterations)"
   ]
  },
  {
   "cell_type": "code",
   "execution_count": 8,
   "metadata": {},
   "outputs": [
    {
     "name": "stdout",
     "output_type": "stream",
     "text": [
      "  1.003786 seconds (2.11 k allocations: 90.781 KiB)\n"
     ]
    },
    {
     "data": {
      "text/plain": [
       "(39.406385468679524, [30, 76, 73, 96, 29, 27, 58, 25, 42, 22  …  86, 98, 32, 23, 61, 56, 59, 38, 35, 10])"
      ]
     },
     "execution_count": 8,
     "metadata": {},
     "output_type": "execute_result"
    }
   ],
   "source": [
    "@time dist_random_permutations(n,d,iterations)"
   ]
  },
  {
   "cell_type": "code",
   "execution_count": 9,
   "metadata": {},
   "outputs": [
    {
     "name": "stdout",
     "output_type": "stream",
     "text": [
      "  1.001686 seconds (2.11 k allocations: 90.797 KiB)\n"
     ]
    },
    {
     "data": {
      "text/plain": [
       "(40.53732193711298, [43, 46, 18, 56, 91, 7, 3, 92, 32, 44  …  73, 71, 93, 38, 48, 23, 28, 33, 88, 76])"
      ]
     },
     "execution_count": 9,
     "metadata": {},
     "output_type": "execute_result"
    }
   ],
   "source": [
    "@time dist_random_permutations(n,d,iterations)"
   ]
  }
 ],
 "metadata": {
  "kernelspec": {
   "display_name": "Julia 1.1.0",
   "language": "julia",
   "name": "julia-1.1"
  },
  "language_info": {
   "file_extension": ".jl",
   "mimetype": "application/julia",
   "name": "julia",
   "version": "1.1.0"
  }
 },
 "nbformat": 4,
 "nbformat_minor": 2
}
